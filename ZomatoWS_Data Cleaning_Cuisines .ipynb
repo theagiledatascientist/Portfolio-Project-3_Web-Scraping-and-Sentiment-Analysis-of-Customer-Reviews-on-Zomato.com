{
 "cells": [
  {
   "cell_type": "code",
   "execution_count": 46,
   "metadata": {},
   "outputs": [],
   "source": [
    "import pandas as pd"
   ]
  },
  {
   "cell_type": "code",
   "execution_count": 61,
   "metadata": {
    "scrolled": false
   },
   "outputs": [
    {
     "data": {
      "text/html": [
       "<div>\n",
       "<style scoped>\n",
       "    .dataframe tbody tr th:only-of-type {\n",
       "        vertical-align: middle;\n",
       "    }\n",
       "\n",
       "    .dataframe tbody tr th {\n",
       "        vertical-align: top;\n",
       "    }\n",
       "\n",
       "    .dataframe thead th {\n",
       "        text-align: right;\n",
       "    }\n",
       "</style>\n",
       "<table border=\"1\" class=\"dataframe\">\n",
       "  <thead>\n",
       "    <tr style=\"text-align: right;\">\n",
       "      <th></th>\n",
       "      <th>Unnamed: 0</th>\n",
       "      <th>Name</th>\n",
       "      <th>Location</th>\n",
       "      <th>overall_rating</th>\n",
       "      <th>Num_Reviews</th>\n",
       "      <th>Cuisines</th>\n",
       "      <th>Score</th>\n",
       "      <th>rest_id</th>\n",
       "      <th>Score_New</th>\n",
       "    </tr>\n",
       "  </thead>\n",
       "  <tbody>\n",
       "    <tr>\n",
       "      <td>0</td>\n",
       "      <td>0</td>\n",
       "      <td>Sunshine Spot</td>\n",
       "      <td>North York</td>\n",
       "      <td>3.6</td>\n",
       "      <td>42</td>\n",
       "      <td>Casual Dining, Diner, Canadian</td>\n",
       "      <td>0.148209</td>\n",
       "      <td>0</td>\n",
       "      <td>3.741047</td>\n",
       "    </tr>\n",
       "    <tr>\n",
       "      <td>1</td>\n",
       "      <td>1</td>\n",
       "      <td>Lemongrass</td>\n",
       "      <td>Davisville Village</td>\n",
       "      <td>3.8</td>\n",
       "      <td>49</td>\n",
       "      <td>Casual Dining, Thai</td>\n",
       "      <td>0.137878</td>\n",
       "      <td>1</td>\n",
       "      <td>3.689392</td>\n",
       "    </tr>\n",
       "    <tr>\n",
       "      <td>2</td>\n",
       "      <td>2</td>\n",
       "      <td>Gyu-Kaku Japanese BBQ</td>\n",
       "      <td>St. Lawrence</td>\n",
       "      <td>NaN</td>\n",
       "      <td>13</td>\n",
       "      <td>Casual Dining, Japanese, BBQ</td>\n",
       "      <td>0.144002</td>\n",
       "      <td>2</td>\n",
       "      <td>3.720012</td>\n",
       "    </tr>\n",
       "    <tr>\n",
       "      <td>3</td>\n",
       "      <td>3</td>\n",
       "      <td>Melanie's Bistro</td>\n",
       "      <td>East Danforth</td>\n",
       "      <td>NaN</td>\n",
       "      <td>60</td>\n",
       "      <td>Casual Dining, Grill</td>\n",
       "      <td>0.293148</td>\n",
       "      <td>3</td>\n",
       "      <td>4.465741</td>\n",
       "    </tr>\n",
       "    <tr>\n",
       "      <td>4</td>\n",
       "      <td>4</td>\n",
       "      <td>The Only Cafe</td>\n",
       "      <td>The Danforth</td>\n",
       "      <td>3.9</td>\n",
       "      <td>58</td>\n",
       "      <td>Bar, Café, Bar Food, Cafe</td>\n",
       "      <td>0.191815</td>\n",
       "      <td>4</td>\n",
       "      <td>3.959076</td>\n",
       "    </tr>\n",
       "  </tbody>\n",
       "</table>\n",
       "</div>"
      ],
      "text/plain": [
       "   Unnamed: 0                   Name            Location  overall_rating  \\\n",
       "0           0          Sunshine Spot          North York             3.6   \n",
       "1           1             Lemongrass  Davisville Village             3.8   \n",
       "2           2  Gyu-Kaku Japanese BBQ        St. Lawrence             NaN   \n",
       "3           3       Melanie's Bistro       East Danforth             NaN   \n",
       "4           4          The Only Cafe        The Danforth             3.9   \n",
       "\n",
       "  Num_Reviews                        Cuisines     Score  rest_id  Score_New  \n",
       "0          42  Casual Dining, Diner, Canadian  0.148209        0   3.741047  \n",
       "1          49             Casual Dining, Thai  0.137878        1   3.689392  \n",
       "2          13    Casual Dining, Japanese, BBQ  0.144002        2   3.720012  \n",
       "3          60            Casual Dining, Grill  0.293148        3   4.465741  \n",
       "4          58       Bar, Café, Bar Food, Cafe  0.191815        4   3.959076  "
      ]
     },
     "execution_count": 61,
     "metadata": {},
     "output_type": "execute_result"
    }
   ],
   "source": [
    "df = pd.read_csv('C:/Users/sarav/Desktop\\Python/restaurants_sentiment_scores1.csv')\n",
    "df.head()"
   ]
  },
  {
   "cell_type": "code",
   "execution_count": 66,
   "metadata": {
    "scrolled": true
   },
   "outputs": [
    {
     "data": {
      "text/plain": [
       "False    166\n",
       "Name: Cuisines, dtype: int64"
      ]
     },
     "execution_count": 66,
     "metadata": {},
     "output_type": "execute_result"
    }
   ],
   "source": [
    "df.Cuisines.str.contains(\"Casual Dining\").value_counts()"
   ]
  },
  {
   "cell_type": "code",
   "execution_count": 67,
   "metadata": {},
   "outputs": [],
   "source": [
    "df.replace(({'Casual Dining, ':''}), inplace = True, regex = True)"
   ]
  },
  {
   "cell_type": "code",
   "execution_count": 68,
   "metadata": {},
   "outputs": [
    {
     "data": {
      "text/html": [
       "<div>\n",
       "<style scoped>\n",
       "    .dataframe tbody tr th:only-of-type {\n",
       "        vertical-align: middle;\n",
       "    }\n",
       "\n",
       "    .dataframe tbody tr th {\n",
       "        vertical-align: top;\n",
       "    }\n",
       "\n",
       "    .dataframe thead th {\n",
       "        text-align: right;\n",
       "    }\n",
       "</style>\n",
       "<table border=\"1\" class=\"dataframe\">\n",
       "  <thead>\n",
       "    <tr style=\"text-align: right;\">\n",
       "      <th></th>\n",
       "      <th>Unnamed: 0</th>\n",
       "      <th>Name</th>\n",
       "      <th>Location</th>\n",
       "      <th>overall_rating</th>\n",
       "      <th>Num_Reviews</th>\n",
       "      <th>Cuisines</th>\n",
       "      <th>Score</th>\n",
       "      <th>rest_id</th>\n",
       "      <th>Score_New</th>\n",
       "    </tr>\n",
       "  </thead>\n",
       "  <tbody>\n",
       "    <tr>\n",
       "      <td>0</td>\n",
       "      <td>0</td>\n",
       "      <td>Sunshine Spot</td>\n",
       "      <td>North York</td>\n",
       "      <td>3.6</td>\n",
       "      <td>42</td>\n",
       "      <td>Diner, Canadian</td>\n",
       "      <td>0.148209</td>\n",
       "      <td>0</td>\n",
       "      <td>3.741047</td>\n",
       "    </tr>\n",
       "    <tr>\n",
       "      <td>1</td>\n",
       "      <td>1</td>\n",
       "      <td>Lemongrass</td>\n",
       "      <td>Davisville Village</td>\n",
       "      <td>3.8</td>\n",
       "      <td>49</td>\n",
       "      <td>Thai</td>\n",
       "      <td>0.137878</td>\n",
       "      <td>1</td>\n",
       "      <td>3.689392</td>\n",
       "    </tr>\n",
       "    <tr>\n",
       "      <td>2</td>\n",
       "      <td>2</td>\n",
       "      <td>Gyu-Kaku Japanese BBQ</td>\n",
       "      <td>St. Lawrence</td>\n",
       "      <td>NaN</td>\n",
       "      <td>13</td>\n",
       "      <td>Japanese, BBQ</td>\n",
       "      <td>0.144002</td>\n",
       "      <td>2</td>\n",
       "      <td>3.720012</td>\n",
       "    </tr>\n",
       "    <tr>\n",
       "      <td>3</td>\n",
       "      <td>3</td>\n",
       "      <td>Melanie's Bistro</td>\n",
       "      <td>East Danforth</td>\n",
       "      <td>NaN</td>\n",
       "      <td>60</td>\n",
       "      <td>Grill</td>\n",
       "      <td>0.293148</td>\n",
       "      <td>3</td>\n",
       "      <td>4.465741</td>\n",
       "    </tr>\n",
       "    <tr>\n",
       "      <td>4</td>\n",
       "      <td>4</td>\n",
       "      <td>The Only Cafe</td>\n",
       "      <td>The Danforth</td>\n",
       "      <td>3.9</td>\n",
       "      <td>58</td>\n",
       "      <td>Bar, Café, Bar Food, Cafe</td>\n",
       "      <td>0.191815</td>\n",
       "      <td>4</td>\n",
       "      <td>3.959076</td>\n",
       "    </tr>\n",
       "    <tr>\n",
       "      <td>...</td>\n",
       "      <td>...</td>\n",
       "      <td>...</td>\n",
       "      <td>...</td>\n",
       "      <td>...</td>\n",
       "      <td>...</td>\n",
       "      <td>...</td>\n",
       "      <td>...</td>\n",
       "      <td>...</td>\n",
       "      <td>...</td>\n",
       "    </tr>\n",
       "    <tr>\n",
       "      <td>162</td>\n",
       "      <td>162</td>\n",
       "      <td>Sakada Sushi</td>\n",
       "      <td>Pickering</td>\n",
       "      <td>3.9</td>\n",
       "      <td>26</td>\n",
       "      <td>Sushi, Japanese, Asian</td>\n",
       "      <td>0.250954</td>\n",
       "      <td>162</td>\n",
       "      <td>4.254772</td>\n",
       "    </tr>\n",
       "    <tr>\n",
       "      <td>163</td>\n",
       "      <td>163</td>\n",
       "      <td>Market Place Fish &amp; Chips</td>\n",
       "      <td>Mississauga</td>\n",
       "      <td>3.9</td>\n",
       "      <td>26</td>\n",
       "      <td>Quick Bites, Fish and Chips</td>\n",
       "      <td>0.349136</td>\n",
       "      <td>163</td>\n",
       "      <td>4.745679</td>\n",
       "    </tr>\n",
       "    <tr>\n",
       "      <td>164</td>\n",
       "      <td>164</td>\n",
       "      <td>Doppio Zero</td>\n",
       "      <td>Forest Hill</td>\n",
       "      <td>3.9</td>\n",
       "      <td>33</td>\n",
       "      <td>Pizza, Italian</td>\n",
       "      <td>0.177904</td>\n",
       "      <td>164</td>\n",
       "      <td>3.889519</td>\n",
       "    </tr>\n",
       "    <tr>\n",
       "      <td>165</td>\n",
       "      <td>165</td>\n",
       "      <td>Royal Orchard Thai Cuisine</td>\n",
       "      <td>Thornhill</td>\n",
       "      <td>3.9</td>\n",
       "      <td>30</td>\n",
       "      <td>Thai</td>\n",
       "      <td>0.160944</td>\n",
       "      <td>165</td>\n",
       "      <td>3.804719</td>\n",
       "    </tr>\n",
       "    <tr>\n",
       "      <td>166</td>\n",
       "      <td>166</td>\n",
       "      <td>The Feathers</td>\n",
       "      <td>The Beaches</td>\n",
       "      <td>3.9</td>\n",
       "      <td>31</td>\n",
       "      <td>British, Bar Food</td>\n",
       "      <td>0.325666</td>\n",
       "      <td>166</td>\n",
       "      <td>4.628330</td>\n",
       "    </tr>\n",
       "  </tbody>\n",
       "</table>\n",
       "<p>167 rows × 9 columns</p>\n",
       "</div>"
      ],
      "text/plain": [
       "     Unnamed: 0                        Name            Location  \\\n",
       "0             0               Sunshine Spot          North York   \n",
       "1             1                  Lemongrass  Davisville Village   \n",
       "2             2       Gyu-Kaku Japanese BBQ        St. Lawrence   \n",
       "3             3            Melanie's Bistro       East Danforth   \n",
       "4             4               The Only Cafe        The Danforth   \n",
       "..          ...                         ...                 ...   \n",
       "162         162                Sakada Sushi           Pickering   \n",
       "163         163   Market Place Fish & Chips         Mississauga   \n",
       "164         164                 Doppio Zero         Forest Hill   \n",
       "165         165  Royal Orchard Thai Cuisine           Thornhill   \n",
       "166         166                The Feathers         The Beaches   \n",
       "\n",
       "     overall_rating Num_Reviews                     Cuisines     Score  \\\n",
       "0               3.6          42              Diner, Canadian  0.148209   \n",
       "1               3.8          49                         Thai  0.137878   \n",
       "2               NaN          13                Japanese, BBQ  0.144002   \n",
       "3               NaN          60                        Grill  0.293148   \n",
       "4               3.9          58    Bar, Café, Bar Food, Cafe  0.191815   \n",
       "..              ...         ...                          ...       ...   \n",
       "162             3.9          26       Sushi, Japanese, Asian  0.250954   \n",
       "163             3.9          26  Quick Bites, Fish and Chips  0.349136   \n",
       "164             3.9          33               Pizza, Italian  0.177904   \n",
       "165             3.9          30                         Thai  0.160944   \n",
       "166             3.9          31            British, Bar Food  0.325666   \n",
       "\n",
       "     rest_id  Score_New  \n",
       "0          0   3.741047  \n",
       "1          1   3.689392  \n",
       "2          2   3.720012  \n",
       "3          3   4.465741  \n",
       "4          4   3.959076  \n",
       "..       ...        ...  \n",
       "162      162   4.254772  \n",
       "163      163   4.745679  \n",
       "164      164   3.889519  \n",
       "165      165   3.804719  \n",
       "166      166   4.628330  \n",
       "\n",
       "[167 rows x 9 columns]"
      ]
     },
     "execution_count": 68,
     "metadata": {},
     "output_type": "execute_result"
    }
   ],
   "source": [
    "df"
   ]
  },
  {
   "cell_type": "code",
   "execution_count": 50,
   "metadata": {
    "scrolled": true
   },
   "outputs": [],
   "source": [
    "#df.to_csv ('restaurants_Cuisines_Filtered.csv', index = None, header = False, encoding = 'utf-8')"
   ]
  },
  {
   "cell_type": "code",
   "execution_count": 70,
   "metadata": {
    "scrolled": true
   },
   "outputs": [],
   "source": [
    "df.to_csv ('restaurants_Cuisines_Filtered.csv', encoding = 'utf-8')"
   ]
  },
  {
   "cell_type": "code",
   "execution_count": 71,
   "metadata": {},
   "outputs": [],
   "source": [
    "import numpy as np\n",
    "import matplotlib.pyplot as plt"
   ]
  },
  {
   "cell_type": "code",
   "execution_count": 73,
   "metadata": {},
   "outputs": [
    {
     "data": {
      "image/png": "[encoded data removed]",
      "text/plain": [
       "<Figure size 432x288 with 1 Axes>"
      ]
     },
     "metadata": {
      "needs_background": "light"
     },
     "output_type": "display_data"
    }
   ],
   "source": [
    "box = plt.boxplot(df['Score_New'], showmeans = True)"
   ]
  },
  {
   "cell_type": "code",
   "execution_count": 74,
   "metadata": {},
   "outputs": [
    {
     "data": {
      "text/html": [
       "        <script type=\"text/javascript\">\n",
       "        window.PlotlyConfig = {MathJaxConfig: 'local'};\n",
       "        if (window.MathJax) {MathJax.Hub.Config({SVG: {font: \"STIX-Web\"}});}\n",
       "        if (typeof require !== 'undefined') {\n",
       "        require.undef(\"plotly\");\n",
       "        requirejs.config({\n",
       "            paths: {\n",
       "                'plotly': ['https://cdn.plot.ly/plotly-latest.min']\n",
       "            }\n",
       "        });\n",
       "        require(['plotly'], function(Plotly) {\n",
       "            window._Plotly = Plotly;\n",
       "        });\n",
       "        }\n",
       "        </script>\n",
       "        "
      ]
     },
     "metadata": {},
     "output_type": "display_data"
    }
   ],
   "source": [
    "import plotly.offline as py\n",
    "import plotly.graph_objs as go \n",
    "\n",
    "py.init_notebook_mode(connected=True)"
   ]
  },
  {
   "cell_type": "code",
   "execution_count": null,
   "metadata": {},
   "outputs": [],
   "source": [
    "data = go.Box(\n",
    "    y=crime_date['count'],\n",
    "    boxpoints='all',\n",
    "    name='crime_count'\n",
    ")\n",
    "\n",
    "Layout = go.Layout(\n",
    "    width = 500,\n",
    "    yaxis = {'title':'crime count'}\n",
    ")\n",
    "\n",
    "fig = go.Figure(data=[data],layout=Layout)\n",
    "py.iplot(fig)"
   ]
  }
 ],
 "metadata": {
  "kernelspec": {
   "display_name": "Python 3",
   "language": "python",
   "name": "python3"
  },
  "language_info": {
   "codemirror_mode": {
    "name": "ipython",
    "version": 3
   },
   "file_extension": ".py",
   "mimetype": "text/x-python",
   "name": "python",
   "nbconvert_exporter": "python",
   "pygments_lexer": "ipython3",
   "version": "3.7.4"
  }
 },
 "nbformat": 4,
 "nbformat_minor": 2
}
