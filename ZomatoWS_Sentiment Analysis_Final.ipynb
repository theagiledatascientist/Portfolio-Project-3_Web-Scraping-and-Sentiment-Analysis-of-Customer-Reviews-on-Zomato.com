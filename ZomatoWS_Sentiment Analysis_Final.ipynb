{
 "cells": [
  {
   "cell_type": "markdown",
   "metadata": {},
   "source": [
    "Steps in Sentiment Analysis:\n",
    "- Get sentiment score for each review comment \n",
    "- Create average sentiment score per restaurant\n",
    "- List all nouns and adjectives for each comment\n",
    "- Combine all list of nouns for each restaurant in separate list\n",
    "- For restaurants with low sentiment score, combine all nouns in one list, and adjectives in another and show negative feedback word clouds each for nouns and adjectives\n",
    "- Do the same for all positive scored restaurant and show positive feedback wordcloud\n",
    "- Compare the avg sentiment score with the overall rating given\n",
    "- Build a wordcloud to identify positive topics\n",
    "- Build a wordcloid to identify negative topics"
   ]
  },
  {
   "cell_type": "code",
   "execution_count": 71,
   "metadata": {},
   "outputs": [],
   "source": [
    "from matplotlib import pyplot as plt"
   ]
  },
  {
   "cell_type": "code",
   "execution_count": 72,
   "metadata": {},
   "outputs": [],
   "source": [
    "import pandas as pd"
   ]
  },
  {
   "cell_type": "markdown",
   "metadata": {},
   "source": [
    "**IMP**: use below code else long strings more than 50 characters are truncated"
   ]
  },
  {
   "cell_type": "code",
   "execution_count": 73,
   "metadata": {},
   "outputs": [],
   "source": [
    "pd.set_option('display.max_colwidth', -1)"
   ]
  },
  {
   "cell_type": "markdown",
   "metadata": {},
   "source": [
    "#### read the data"
   ]
  },
  {
   "cell_type": "code",
   "execution_count": 74,
   "metadata": {},
   "outputs": [],
   "source": [
    "df_rest = pd.read_csv('toronto_restaurants.csv', header = None)"
   ]
  },
  {
   "cell_type": "code",
   "execution_count": 75,
   "metadata": {},
   "outputs": [],
   "source": [
    "df_rest.columns = (['Name', 'Location', 'overall_rating', 'Num_Reviews', 'Cuisines', 'Rev_rating', 'Comment'])"
   ]
  },
  {
   "cell_type": "code",
   "execution_count": 76,
   "metadata": {},
   "outputs": [],
   "source": [
    "#create an id column - will be used later while mapping the sentiment scores for each comment \n",
    "df_rest['row_id'] = df_rest.index"
   ]
  },
  {
   "cell_type": "markdown",
   "metadata": {},
   "source": [
    "#### Part 1: Calculate sentiment score for each comment as a whole"
   ]
  },
  {
   "cell_type": "code",
   "execution_count": 77,
   "metadata": {},
   "outputs": [
    {
     "data": {
      "text/html": [
       "<div>\n",
       "<style scoped>\n",
       "    .dataframe tbody tr th:only-of-type {\n",
       "        vertical-align: middle;\n",
       "    }\n",
       "\n",
       "    .dataframe tbody tr th {\n",
       "        vertical-align: top;\n",
       "    }\n",
       "\n",
       "    .dataframe thead th {\n",
       "        text-align: right;\n",
       "    }\n",
       "</style>\n",
       "<table border=\"1\" class=\"dataframe\">\n",
       "  <thead>\n",
       "    <tr style=\"text-align: right;\">\n",
       "      <th></th>\n",
       "      <th>Name</th>\n",
       "      <th>Location</th>\n",
       "      <th>overall_rating</th>\n",
       "      <th>Num_Reviews</th>\n",
       "      <th>Cuisines</th>\n",
       "      <th>Rev_rating</th>\n",
       "      <th>Comment</th>\n",
       "      <th>row_id</th>\n",
       "    </tr>\n",
       "  </thead>\n",
       "  <tbody>\n",
       "    <tr>\n",
       "      <td>0</td>\n",
       "      <td>Sunshine Spot</td>\n",
       "      <td>North York</td>\n",
       "      <td>3.6</td>\n",
       "      <td>42</td>\n",
       "      <td>Casual Dining, Diner, Canadian</td>\n",
       "      <td>1</td>\n",
       "      <td>Does not honor the online order advertised when you Google the place. Staff not friendly at all. Will not be coming back....,........ .........................</td>\n",
       "      <td>0</td>\n",
       "    </tr>\n",
       "    <tr>\n",
       "      <td>1</td>\n",
       "      <td>Sunshine Spot</td>\n",
       "      <td>North York</td>\n",
       "      <td>3.6</td>\n",
       "      <td>42</td>\n",
       "      <td>Casual Dining, Diner, Canadian</td>\n",
       "      <td>Unknown</td>\n",
       "      <td>2017/11/12\\nWe’ve been meaning to try Sunshine Spot for a while. Those who know us will know why. 😀 Today we were in the area for a minor shopping excursion, and we stopped in just before 1 pm for lunch. The restaurant was mostly full, so we had to wait a couple of minutes for them to prepare a table. \\n\\nThe restaurant is long and narrow, made even narrower by the open kitchen halfway along one of the long walls. We were seated right across from the kitchen, where we had a direct view of the hustle and bustle. The expected commotion and noise was made worse by the table right behind me, where the four young men were having a loud, boisterous, profanity-laced conversation. They forgot</td>\n",
       "      <td>1</td>\n",
       "    </tr>\n",
       "  </tbody>\n",
       "</table>\n",
       "</div>"
      ],
      "text/plain": [
       "            Name    Location overall_rating Num_Reviews  \\\n",
       "0  Sunshine Spot  North York  3.6            42           \n",
       "1  Sunshine Spot  North York  3.6            42           \n",
       "\n",
       "                         Cuisines Rev_rating  \\\n",
       "0  Casual Dining, Diner, Canadian  1           \n",
       "1  Casual Dining, Diner, Canadian  Unknown     \n",
       "\n",
       "                                                                                                                                                                                                                                                                                                                                                                                                                                                                                                                                                                                                                                                                                                                  Comment  \\\n",
       "0  Does not honor the online order advertised when you Google the place. Staff not friendly at all. Will not be coming back....,........ .........................                                                                                                                                                                                                                                                                                                                                                                                                                                                                                                                                                          \n",
       "1  2017/11/12\\nWe’ve been meaning to try Sunshine Spot for a while. Those who know us will know why. 😀 Today we were in the area for a minor shopping excursion, and we stopped in just before 1 pm for lunch. The restaurant was mostly full, so we had to wait a couple of minutes for them to prepare a table. \\n\\nThe restaurant is long and narrow, made even narrower by the open kitchen halfway along one of the long walls. We were seated right across from the kitchen, where we had a direct view of the hustle and bustle. The expected commotion and noise was made worse by the table right behind me, where the four young men were having a loud, boisterous, profanity-laced conversation. They forgot    \n",
       "\n",
       "   row_id  \n",
       "0  0       \n",
       "1  1       "
      ]
     },
     "execution_count": 77,
     "metadata": {},
     "output_type": "execute_result"
    }
   ],
   "source": [
    "df_rest.head(2)"
   ]
  },
  {
   "cell_type": "markdown",
   "metadata": {},
   "source": [
    "#### Add a new  column 'score' and convert to numeric"
   ]
  },
  {
   "cell_type": "code",
   "execution_count": 78,
   "metadata": {},
   "outputs": [],
   "source": [
    "df_rest['Score'] = pd.Series()\n",
    "df_rest['Score'] = pd.to_numeric(df_rest['Score'])"
   ]
  },
  {
   "cell_type": "code",
   "execution_count": 79,
   "metadata": {},
   "outputs": [],
   "source": [
    "## convert overall_rating to numeric\n",
    "df_rest['overall_rating'] = pd.to_numeric(df_rest['overall_rating'], errors = 'coerce')"
   ]
  },
  {
   "cell_type": "markdown",
   "metadata": {},
   "source": [
    "#### Create function to get sentiment score of each sentence in the comment and take mean score for that comment"
   ]
  },
  {
   "cell_type": "code",
   "execution_count": 80,
   "metadata": {},
   "outputs": [],
   "source": [
    "#import textblob and other packages\n",
    "from textblob import TextBlob\n",
    "import nltk\n",
    "from statistics import mean"
   ]
  },
  {
   "cell_type": "code",
   "execution_count": 81,
   "metadata": {},
   "outputs": [],
   "source": [
    "def get_comm_sentiment(comment):\n",
    "    ''' take in a comment and return mean for all sentence sentiment score'''\n",
    "    #create a blob of iput comment and empty list\n",
    "    blob = TextBlob(str(comment))\n",
    "    comment_scores = []\n",
    "    \n",
    "    #for each sentence in comment, append the sentiment polarity to the list\n",
    "    for sentence in blob.sentences:\n",
    "        comment_scores.append(sentence.sentiment.polarity)\n",
    "    \n",
    "    #calculate mean on the list for the whole comment\n",
    "    return mean(comment_scores)"
   ]
  },
  {
   "cell_type": "markdown",
   "metadata": {},
   "source": [
    "#### Get the score for each comment into the df"
   ]
  },
  {
   "cell_type": "code",
   "execution_count": 82,
   "metadata": {},
   "outputs": [],
   "source": [
    "## For each comment in each row get the score for that comment from the function above and assign it to the score column"
   ]
  },
  {
   "cell_type": "code",
   "execution_count": 83,
   "metadata": {},
   "outputs": [
    {
     "name": "stderr",
     "output_type": "stream",
     "text": [
      "C:\\Users\\bhrig\\Anaconda3\\lib\\site-packages\\ipykernel_launcher.py:10: SettingWithCopyWarning: \n",
      "A value is trying to be set on a copy of a slice from a DataFrame\n",
      "\n",
      "See the caveats in the documentation: http://pandas.pydata.org/pandas-docs/stable/user_guide/indexing.html#returning-a-view-versus-a-copy\n",
      "  # Remove the CWD from sys.path while we load stuff.\n"
     ]
    }
   ],
   "source": [
    "length = len(df_rest['row_id'])\n",
    "#iterate through comments and assign score per comment in 'Score' column\n",
    "\n",
    "for row_num in range(length):\n",
    "    #calculate mean comment score from get_comm_sentiment() method\n",
    "    row_comment = df_rest['Comment'][df_rest['row_id']==row_num]\n",
    "    comm_score = get_comm_sentiment(row_comment)\n",
    "    \n",
    "    #assign to score column\n",
    "    df_rest['Score'][df_rest['row_id']==row_num] = comm_score"
   ]
  },
  {
   "cell_type": "code",
   "execution_count": 93,
   "metadata": {},
   "outputs": [
    {
     "data": {
      "text/html": [
       "<div>\n",
       "<style scoped>\n",
       "    .dataframe tbody tr th:only-of-type {\n",
       "        vertical-align: middle;\n",
       "    }\n",
       "\n",
       "    .dataframe tbody tr th {\n",
       "        vertical-align: top;\n",
       "    }\n",
       "\n",
       "    .dataframe thead th {\n",
       "        text-align: right;\n",
       "    }\n",
       "</style>\n",
       "<table border=\"1\" class=\"dataframe\">\n",
       "  <thead>\n",
       "    <tr style=\"text-align: right;\">\n",
       "      <th></th>\n",
       "      <th>Name</th>\n",
       "      <th>Location</th>\n",
       "      <th>overall_rating</th>\n",
       "      <th>Num_Reviews</th>\n",
       "      <th>Cuisines</th>\n",
       "      <th>Rev_rating</th>\n",
       "      <th>Comment</th>\n",
       "      <th>row_id</th>\n",
       "      <th>Score</th>\n",
       "    </tr>\n",
       "  </thead>\n",
       "  <tbody>\n",
       "    <tr>\n",
       "      <td>0</td>\n",
       "      <td>Sunshine Spot</td>\n",
       "      <td>North York</td>\n",
       "      <td>3.6</td>\n",
       "      <td>42</td>\n",
       "      <td>Casual Dining, Diner, Canadian</td>\n",
       "      <td>1</td>\n",
       "      <td>Does not honor the online order advertised when you Google the place. Staff not friendly at all. Will not be coming back....,........ .........................</td>\n",
       "      <td>0</td>\n",
       "      <td>-0.062500</td>\n",
       "    </tr>\n",
       "    <tr>\n",
       "      <td>1</td>\n",
       "      <td>Sunshine Spot</td>\n",
       "      <td>North York</td>\n",
       "      <td>3.6</td>\n",
       "      <td>42</td>\n",
       "      <td>Casual Dining, Diner, Canadian</td>\n",
       "      <td>Unknown</td>\n",
       "      <td>2017/11/12\\nWe’ve been meaning to try Sunshine Spot for a while. Those who know us will know why. 😀 Today we were in the area for a minor shopping excursion, and we stopped in just before 1 pm for lunch. The restaurant was mostly full, so we had to wait a couple of minutes for them to prepare a table. \\n\\nThe restaurant is long and narrow, made even narrower by the open kitchen halfway along one of the long walls. We were seated right across from the kitchen, where we had a direct view of the hustle and bustle. The expected commotion and noise was made worse by the table right behind me, where the four young men were having a loud, boisterous, profanity-laced conversation. They forgot</td>\n",
       "      <td>1</td>\n",
       "      <td>0.043601</td>\n",
       "    </tr>\n",
       "  </tbody>\n",
       "</table>\n",
       "</div>"
      ],
      "text/plain": [
       "            Name    Location  overall_rating Num_Reviews  \\\n",
       "0  Sunshine Spot  North York  3.6             42           \n",
       "1  Sunshine Spot  North York  3.6             42           \n",
       "\n",
       "                         Cuisines Rev_rating  \\\n",
       "0  Casual Dining, Diner, Canadian  1           \n",
       "1  Casual Dining, Diner, Canadian  Unknown     \n",
       "\n",
       "                                                                                                                                                                                                                                                                                                                                                                                                                                                                                                                                                                                                                                                                                                                  Comment  \\\n",
       "0  Does not honor the online order advertised when you Google the place. Staff not friendly at all. Will not be coming back....,........ .........................                                                                                                                                                                                                                                                                                                                                                                                                                                                                                                                                                          \n",
       "1  2017/11/12\\nWe’ve been meaning to try Sunshine Spot for a while. Those who know us will know why. 😀 Today we were in the area for a minor shopping excursion, and we stopped in just before 1 pm for lunch. The restaurant was mostly full, so we had to wait a couple of minutes for them to prepare a table. \\n\\nThe restaurant is long and narrow, made even narrower by the open kitchen halfway along one of the long walls. We were seated right across from the kitchen, where we had a direct view of the hustle and bustle. The expected commotion and noise was made worse by the table right behind me, where the four young men were having a loud, boisterous, profanity-laced conversation. They forgot    \n",
       "\n",
       "   row_id     Score  \n",
       "0  0      -0.062500  \n",
       "1  1       0.043601  "
      ]
     },
     "execution_count": 93,
     "metadata": {},
     "output_type": "execute_result"
    }
   ],
   "source": [
    "df_rest.head(2)"
   ]
  },
  {
   "cell_type": "markdown",
   "metadata": {},
   "source": [
    "#### Get average score per restaurant"
   ]
  },
  {
   "cell_type": "code",
   "execution_count": 64,
   "metadata": {},
   "outputs": [],
   "source": [
    "rest_avg_scores = df_rest.groupby(['Name'], as_index=False).agg({'Score':mean})"
   ]
  },
  {
   "cell_type": "code",
   "execution_count": 65,
   "metadata": {},
   "outputs": [
    {
     "data": {
      "text/html": [
       "<div>\n",
       "<style scoped>\n",
       "    .dataframe tbody tr th:only-of-type {\n",
       "        vertical-align: middle;\n",
       "    }\n",
       "\n",
       "    .dataframe tbody tr th {\n",
       "        vertical-align: top;\n",
       "    }\n",
       "\n",
       "    .dataframe thead th {\n",
       "        text-align: right;\n",
       "    }\n",
       "</style>\n",
       "<table border=\"1\" class=\"dataframe\">\n",
       "  <thead>\n",
       "    <tr style=\"text-align: right;\">\n",
       "      <th></th>\n",
       "      <th>Name</th>\n",
       "      <th>Score</th>\n",
       "    </tr>\n",
       "  </thead>\n",
       "  <tbody>\n",
       "    <tr>\n",
       "      <td>0</td>\n",
       "      <td>Affy's Premium Grill</td>\n",
       "      <td>0.042880</td>\n",
       "    </tr>\n",
       "    <tr>\n",
       "      <td>1</td>\n",
       "      <td>Akimi Japanese Cuisine</td>\n",
       "      <td>0.145891</td>\n",
       "    </tr>\n",
       "    <tr>\n",
       "      <td>2</td>\n",
       "      <td>Archeo</td>\n",
       "      <td>0.136468</td>\n",
       "    </tr>\n",
       "    <tr>\n",
       "      <td>3</td>\n",
       "      <td>Athens Restaurant &amp; Tavern</td>\n",
       "      <td>0.202926</td>\n",
       "    </tr>\n",
       "    <tr>\n",
       "      <td>4</td>\n",
       "      <td>Auberge du Pommier</td>\n",
       "      <td>0.214040</td>\n",
       "    </tr>\n",
       "  </tbody>\n",
       "</table>\n",
       "</div>"
      ],
      "text/plain": [
       "                         Name     Score\n",
       "0  Affy's Premium Grill        0.042880\n",
       "1  Akimi Japanese Cuisine      0.145891\n",
       "2  Archeo                      0.136468\n",
       "3  Athens Restaurant & Tavern  0.202926\n",
       "4  Auberge du Pommier          0.214040"
      ]
     },
     "execution_count": 65,
     "metadata": {},
     "output_type": "execute_result"
    }
   ],
   "source": [
    "rest_avg_scores.head(5) #check"
   ]
  },
  {
   "cell_type": "markdown",
   "metadata": {},
   "source": [
    "#### get the other columns in the unique table with join"
   ]
  },
  {
   "cell_type": "code",
   "execution_count": 94,
   "metadata": {},
   "outputs": [],
   "source": [
    "#copy into new df before deleting columns\n",
    "\n",
    "df_rest2 = df_rest\n",
    "#drop columns\n",
    "df_rest2 = df_rest2.drop(['Comment', 'row_id', 'Score', 'Rev_rating'], axis = 1)\n",
    "\n",
    "#delete columns\n",
    "# del(df_rest2['Comment'])\n",
    "# del(df_rest2['row_id'])\n",
    "# del(df_rest2['Score'])\n",
    "# del(df_rest2['Rev_rating'])"
   ]
  },
  {
   "cell_type": "code",
   "execution_count": 95,
   "metadata": {},
   "outputs": [
    {
     "data": {
      "text/html": [
       "<div>\n",
       "<style scoped>\n",
       "    .dataframe tbody tr th:only-of-type {\n",
       "        vertical-align: middle;\n",
       "    }\n",
       "\n",
       "    .dataframe tbody tr th {\n",
       "        vertical-align: top;\n",
       "    }\n",
       "\n",
       "    .dataframe thead th {\n",
       "        text-align: right;\n",
       "    }\n",
       "</style>\n",
       "<table border=\"1\" class=\"dataframe\">\n",
       "  <thead>\n",
       "    <tr style=\"text-align: right;\">\n",
       "      <th></th>\n",
       "      <th>Name</th>\n",
       "      <th>Location</th>\n",
       "      <th>overall_rating</th>\n",
       "      <th>Num_Reviews</th>\n",
       "      <th>Cuisines</th>\n",
       "    </tr>\n",
       "  </thead>\n",
       "  <tbody>\n",
       "    <tr>\n",
       "      <td>0</td>\n",
       "      <td>Sunshine Spot</td>\n",
       "      <td>North York</td>\n",
       "      <td>3.6</td>\n",
       "      <td>42</td>\n",
       "      <td>Casual Dining, Diner, Canadian</td>\n",
       "    </tr>\n",
       "    <tr>\n",
       "      <td>1</td>\n",
       "      <td>Sunshine Spot</td>\n",
       "      <td>North York</td>\n",
       "      <td>3.6</td>\n",
       "      <td>42</td>\n",
       "      <td>Casual Dining, Diner, Canadian</td>\n",
       "    </tr>\n",
       "  </tbody>\n",
       "</table>\n",
       "</div>"
      ],
      "text/plain": [
       "            Name    Location  overall_rating Num_Reviews  \\\n",
       "0  Sunshine Spot  North York  3.6             42           \n",
       "1  Sunshine Spot  North York  3.6             42           \n",
       "\n",
       "                         Cuisines  \n",
       "0  Casual Dining, Diner, Canadian  \n",
       "1  Casual Dining, Diner, Canadian  "
      ]
     },
     "execution_count": 95,
     "metadata": {},
     "output_type": "execute_result"
    }
   ],
   "source": [
    "df_rest2.head(2) #check"
   ]
  },
  {
   "cell_type": "code",
   "execution_count": 96,
   "metadata": {},
   "outputs": [],
   "source": [
    "#drop duplicates as we only need top-level restaurant information\n",
    "df_rest3 = df_rest2.drop_duplicates()"
   ]
  },
  {
   "cell_type": "code",
   "execution_count": 97,
   "metadata": {},
   "outputs": [],
   "source": [
    "#Combine the average sentiment scores with the other top-level info"
   ]
  },
  {
   "cell_type": "code",
   "execution_count": 98,
   "metadata": {},
   "outputs": [],
   "source": [
    "merged_df = pd.merge(df_rest3, rest_avg_scores, left_on = 'Name', right_on = 'Name', how='inner')"
   ]
  },
  {
   "cell_type": "code",
   "execution_count": 99,
   "metadata": {},
   "outputs": [],
   "source": [
    "merged_df['rest_id'] = merged_df.index"
   ]
  },
  {
   "cell_type": "code",
   "execution_count": 100,
   "metadata": {},
   "outputs": [],
   "source": [
    "merged_df.drop(merged_df[merged_df['rest_id']==123].index, inplace=True) #one row had to be dropped"
   ]
  },
  {
   "cell_type": "markdown",
   "metadata": {},
   "source": [
    "my note: Observe the syntax for how to drop, use .index on the condition"
   ]
  },
  {
   "cell_type": "code",
   "execution_count": 101,
   "metadata": {},
   "outputs": [
    {
     "data": {
      "text/html": [
       "<div>\n",
       "<style scoped>\n",
       "    .dataframe tbody tr th:only-of-type {\n",
       "        vertical-align: middle;\n",
       "    }\n",
       "\n",
       "    .dataframe tbody tr th {\n",
       "        vertical-align: top;\n",
       "    }\n",
       "\n",
       "    .dataframe thead th {\n",
       "        text-align: right;\n",
       "    }\n",
       "</style>\n",
       "<table border=\"1\" class=\"dataframe\">\n",
       "  <thead>\n",
       "    <tr style=\"text-align: right;\">\n",
       "      <th></th>\n",
       "      <th>Name</th>\n",
       "      <th>Location</th>\n",
       "      <th>overall_rating</th>\n",
       "      <th>Num_Reviews</th>\n",
       "      <th>Cuisines</th>\n",
       "      <th>Score</th>\n",
       "      <th>rest_id</th>\n",
       "    </tr>\n",
       "  </thead>\n",
       "  <tbody>\n",
       "    <tr>\n",
       "      <td>0</td>\n",
       "      <td>Sunshine Spot</td>\n",
       "      <td>North York</td>\n",
       "      <td>3.6</td>\n",
       "      <td>42</td>\n",
       "      <td>Casual Dining, Diner, Canadian</td>\n",
       "      <td>0.148209</td>\n",
       "      <td>0</td>\n",
       "    </tr>\n",
       "    <tr>\n",
       "      <td>1</td>\n",
       "      <td>Lemongrass</td>\n",
       "      <td>Davisville Village</td>\n",
       "      <td>3.8</td>\n",
       "      <td>49</td>\n",
       "      <td>Casual Dining, Thai</td>\n",
       "      <td>0.137878</td>\n",
       "      <td>1</td>\n",
       "    </tr>\n",
       "    <tr>\n",
       "      <td>2</td>\n",
       "      <td>Gyu-Kaku Japanese BBQ</td>\n",
       "      <td>St. Lawrence</td>\n",
       "      <td>NaN</td>\n",
       "      <td>13</td>\n",
       "      <td>Casual Dining, Japanese, BBQ</td>\n",
       "      <td>0.144002</td>\n",
       "      <td>2</td>\n",
       "    </tr>\n",
       "    <tr>\n",
       "      <td>3</td>\n",
       "      <td>Melanie's Bistro</td>\n",
       "      <td>East Danforth</td>\n",
       "      <td>NaN</td>\n",
       "      <td>60</td>\n",
       "      <td>Casual Dining, Grill</td>\n",
       "      <td>0.293148</td>\n",
       "      <td>3</td>\n",
       "    </tr>\n",
       "    <tr>\n",
       "      <td>4</td>\n",
       "      <td>The Only Cafe</td>\n",
       "      <td>The Danforth</td>\n",
       "      <td>3.9</td>\n",
       "      <td>58</td>\n",
       "      <td>Bar, Café, Bar Food, Cafe</td>\n",
       "      <td>0.191815</td>\n",
       "      <td>4</td>\n",
       "    </tr>\n",
       "  </tbody>\n",
       "</table>\n",
       "</div>"
      ],
      "text/plain": [
       "                    Name            Location  overall_rating Num_Reviews  \\\n",
       "0  Sunshine Spot          North York          3.6             42           \n",
       "1  Lemongrass             Davisville Village  3.8             49           \n",
       "2  Gyu-Kaku Japanese BBQ  St. Lawrence       NaN              13           \n",
       "3  Melanie's Bistro       East Danforth      NaN              60           \n",
       "4  The Only Cafe          The Danforth        3.9             58           \n",
       "\n",
       "                         Cuisines     Score  rest_id  \n",
       "0  Casual Dining, Diner, Canadian  0.148209  0        \n",
       "1  Casual Dining, Thai             0.137878  1        \n",
       "2  Casual Dining, Japanese, BBQ    0.144002  2        \n",
       "3  Casual Dining, Grill            0.293148  3        \n",
       "4  Bar, Café, Bar Food, Cafe       0.191815  4        "
      ]
     },
     "execution_count": 101,
     "metadata": {},
     "output_type": "execute_result"
    }
   ],
   "source": [
    "merged_df.head()"
   ]
  },
  {
   "cell_type": "markdown",
   "metadata": {},
   "source": [
    "#### Store in csv for analysis in another tool"
   ]
  },
  {
   "cell_type": "code",
   "execution_count": 102,
   "metadata": {},
   "outputs": [],
   "source": [
    "## we will analyze this in Tableau and matplotlib"
   ]
  },
  {
   "cell_type": "code",
   "execution_count": 103,
   "metadata": {},
   "outputs": [],
   "source": [
    "merged_df.to_csv('restaurants_sentiment_scores.csv')"
   ]
  },
  {
   "cell_type": "code",
   "execution_count": 104,
   "metadata": {},
   "outputs": [],
   "source": [
    "merged_df_sorted = merged_df.sort_values(by = 'overall_rating', ascending = True)"
   ]
  },
  {
   "cell_type": "code",
   "execution_count": 105,
   "metadata": {},
   "outputs": [],
   "source": [
    "merged_df_sorted_orig = merged_df_sorted"
   ]
  },
  {
   "cell_type": "code",
   "execution_count": 106,
   "metadata": {},
   "outputs": [],
   "source": [
    "## for sake of plotting with overall rating, remove rows without overall rating"
   ]
  },
  {
   "cell_type": "code",
   "execution_count": 107,
   "metadata": {},
   "outputs": [],
   "source": [
    "merged_df_sorted.drop(merged_df[merged_df['overall_rating'].isna() == True].index, inplace=True)"
   ]
  },
  {
   "cell_type": "code",
   "execution_count": 108,
   "metadata": {},
   "outputs": [],
   "source": [
    "y = merged_df_sorted['Score']\n",
    "x = merged_df_sorted['overall_rating']\n",
    "n = merged_df_sorted['Name']"
   ]
  },
  {
   "cell_type": "code",
   "execution_count": 109,
   "metadata": {
    "scrolled": true
   },
   "outputs": [
    {
     "data": {
      "image/png": "[encoded data removed]",
      "text/plain": [
       "<Figure size 1440x2160 with 1 Axes>"
      ]
     },
     "metadata": {
      "needs_background": "light"
     },
     "output_type": "display_data"
    }
   ],
   "source": [
    "#scale scores to get in same range as overall rating\n",
    "plt.figure(figsize=(20,30))\n",
    "plt.plot(x,n, color='green', linewidth = '3')\n",
    "plt.plot([3.5]*113,n, color='red', linewidth = '2')\n",
    "plt.scatter(y*5 + 3,n)\n",
    "plt.show()"
   ]
  },
  {
   "cell_type": "markdown",
   "metadata": {},
   "source": [
    "note: Other analysis presented in the deck was done on Power BI"
   ]
  },
  {
   "cell_type": "code",
   "execution_count": 110,
   "metadata": {},
   "outputs": [],
   "source": [
    "#finding inconsistencies betwween Zomato Ratings and Sentiment Scores"
   ]
  },
  {
   "cell_type": "markdown",
   "metadata": {},
   "source": [
    "##### Some restaurants have poor Zomato Rating but their Sentiment Score is moderate"
   ]
  },
  {
   "cell_type": "code",
   "execution_count": 111,
   "metadata": {},
   "outputs": [
    {
     "data": {
      "text/html": [
       "<div>\n",
       "<style scoped>\n",
       "    .dataframe tbody tr th:only-of-type {\n",
       "        vertical-align: middle;\n",
       "    }\n",
       "\n",
       "    .dataframe tbody tr th {\n",
       "        vertical-align: top;\n",
       "    }\n",
       "\n",
       "    .dataframe thead th {\n",
       "        text-align: right;\n",
       "    }\n",
       "</style>\n",
       "<table border=\"1\" class=\"dataframe\">\n",
       "  <thead>\n",
       "    <tr style=\"text-align: right;\">\n",
       "      <th></th>\n",
       "      <th>Name</th>\n",
       "      <th>Location</th>\n",
       "      <th>overall_rating</th>\n",
       "      <th>Num_Reviews</th>\n",
       "      <th>Cuisines</th>\n",
       "      <th>Score</th>\n",
       "      <th>rest_id</th>\n",
       "    </tr>\n",
       "  </thead>\n",
       "  <tbody>\n",
       "    <tr>\n",
       "      <td>96</td>\n",
       "      <td>King Taps</td>\n",
       "      <td>Financial District</td>\n",
       "      <td>3.5</td>\n",
       "      <td>20</td>\n",
       "      <td>Casual Dining, Canadian</td>\n",
       "      <td>0.275944</td>\n",
       "      <td>96</td>\n",
       "    </tr>\n",
       "    <tr>\n",
       "      <td>49</td>\n",
       "      <td>Eggsmart</td>\n",
       "      <td>Discovery District</td>\n",
       "      <td>3.5</td>\n",
       "      <td>44</td>\n",
       "      <td>Casual Dining, Diner</td>\n",
       "      <td>0.156265</td>\n",
       "      <td>49</td>\n",
       "    </tr>\n",
       "    <tr>\n",
       "      <td>52</td>\n",
       "      <td>District Social</td>\n",
       "      <td>Dufferin Grove</td>\n",
       "      <td>3.5</td>\n",
       "      <td>38</td>\n",
       "      <td>Casual Dining, Middle Eastern, Mediterranean</td>\n",
       "      <td>0.161311</td>\n",
       "      <td>52</td>\n",
       "    </tr>\n",
       "    <tr>\n",
       "      <td>61</td>\n",
       "      <td>Brioche Dorée</td>\n",
       "      <td>Fashion District</td>\n",
       "      <td>3.5</td>\n",
       "      <td>38</td>\n",
       "      <td>Café, Bakery, Bakery, Cafe</td>\n",
       "      <td>0.175049</td>\n",
       "      <td>61</td>\n",
       "    </tr>\n",
       "    <tr>\n",
       "      <td>62</td>\n",
       "      <td>Bapbo</td>\n",
       "      <td>Discovery District</td>\n",
       "      <td>3.5</td>\n",
       "      <td>31</td>\n",
       "      <td>Casual Dining, Korean, Japanese</td>\n",
       "      <td>0.132324</td>\n",
       "      <td>62</td>\n",
       "    </tr>\n",
       "    <tr>\n",
       "      <td>73</td>\n",
       "      <td>Ufficio</td>\n",
       "      <td>Dufferin Grove</td>\n",
       "      <td>3.5</td>\n",
       "      <td>16</td>\n",
       "      <td>Casual Dining, Mediterranean</td>\n",
       "      <td>0.231935</td>\n",
       "      <td>73</td>\n",
       "    </tr>\n",
       "    <tr>\n",
       "      <td>83</td>\n",
       "      <td>Forget About It! Supper Club</td>\n",
       "      <td>Entertainment District</td>\n",
       "      <td>3.5</td>\n",
       "      <td>40</td>\n",
       "      <td>Casual Dining, Italian</td>\n",
       "      <td>0.172308</td>\n",
       "      <td>83</td>\n",
       "    </tr>\n",
       "    <tr>\n",
       "      <td>19</td>\n",
       "      <td>Mad Mexican</td>\n",
       "      <td>Runnymede</td>\n",
       "      <td>3.5</td>\n",
       "      <td>44</td>\n",
       "      <td>Casual Dining, Mexican</td>\n",
       "      <td>0.173358</td>\n",
       "      <td>19</td>\n",
       "    </tr>\n",
       "    <tr>\n",
       "      <td>46</td>\n",
       "      <td>Rawlicious</td>\n",
       "      <td>Markham</td>\n",
       "      <td>3.5</td>\n",
       "      <td>36</td>\n",
       "      <td>Café, Healthy Food, Cafe, Vegetarian</td>\n",
       "      <td>0.191912</td>\n",
       "      <td>46</td>\n",
       "    </tr>\n",
       "    <tr>\n",
       "      <td>18</td>\n",
       "      <td>Harpers Landing</td>\n",
       "      <td>Oakville</td>\n",
       "      <td>3.5</td>\n",
       "      <td>40</td>\n",
       "      <td>Casual Dining, Canadian, Grill</td>\n",
       "      <td>0.240088</td>\n",
       "      <td>18</td>\n",
       "    </tr>\n",
       "  </tbody>\n",
       "</table>\n",
       "</div>"
      ],
      "text/plain": [
       "                            Name                Location  overall_rating  \\\n",
       "96  King Taps                     Financial District      3.5              \n",
       "49  Eggsmart                      Discovery District      3.5              \n",
       "52  District Social               Dufferin Grove          3.5              \n",
       "61  Brioche Dorée                 Fashion District        3.5              \n",
       "62  Bapbo                         Discovery District      3.5              \n",
       "73  Ufficio                       Dufferin Grove          3.5              \n",
       "83  Forget About It! Supper Club  Entertainment District  3.5              \n",
       "19  Mad Mexican                   Runnymede               3.5              \n",
       "46  Rawlicious                    Markham                 3.5              \n",
       "18  Harpers Landing               Oakville                3.5              \n",
       "\n",
       "   Num_Reviews                                      Cuisines     Score  \\\n",
       "96  20          Casual Dining, Canadian                       0.275944   \n",
       "49  44          Casual Dining, Diner                          0.156265   \n",
       "52  38          Casual Dining, Middle Eastern, Mediterranean  0.161311   \n",
       "61  38          Café, Bakery, Bakery, Cafe                    0.175049   \n",
       "62  31          Casual Dining, Korean, Japanese               0.132324   \n",
       "73  16          Casual Dining, Mediterranean                  0.231935   \n",
       "83  40          Casual Dining, Italian                        0.172308   \n",
       "19  44          Casual Dining, Mexican                        0.173358   \n",
       "46  36          Café, Healthy Food, Cafe, Vegetarian          0.191912   \n",
       "18  40          Casual Dining, Canadian, Grill                0.240088   \n",
       "\n",
       "    rest_id  \n",
       "96  96       \n",
       "49  49       \n",
       "52  52       \n",
       "61  61       \n",
       "62  62       \n",
       "73  73       \n",
       "83  83       \n",
       "19  19       \n",
       "46  46       \n",
       "18  18       "
      ]
     },
     "execution_count": 111,
     "metadata": {},
     "output_type": "execute_result"
    }
   ],
   "source": [
    "merged_df_sorted[(merged_df_sorted['overall_rating'] < 4) & (merged_df_sorted['Score'] > 0.1 )].head(10)"
   ]
  },
  {
   "cell_type": "markdown",
   "metadata": {},
   "source": [
    "##### Some restaurants have Very High Zomato Rating but their Sentiment Score is below average"
   ]
  },
  {
   "cell_type": "code",
   "execution_count": 112,
   "metadata": {},
   "outputs": [
    {
     "data": {
      "text/plain": [
       "0.1803056319868494"
      ]
     },
     "execution_count": 112,
     "metadata": {},
     "output_type": "execute_result"
    }
   ],
   "source": [
    "average_score = mean(merged_df_sorted['Score'])\n",
    "average_score"
   ]
  },
  {
   "cell_type": "code",
   "execution_count": 113,
   "metadata": {},
   "outputs": [
    {
     "data": {
      "text/html": [
       "<div>\n",
       "<style scoped>\n",
       "    .dataframe tbody tr th:only-of-type {\n",
       "        vertical-align: middle;\n",
       "    }\n",
       "\n",
       "    .dataframe tbody tr th {\n",
       "        vertical-align: top;\n",
       "    }\n",
       "\n",
       "    .dataframe thead th {\n",
       "        text-align: right;\n",
       "    }\n",
       "</style>\n",
       "<table border=\"1\" class=\"dataframe\">\n",
       "  <thead>\n",
       "    <tr style=\"text-align: right;\">\n",
       "      <th></th>\n",
       "      <th>Name</th>\n",
       "      <th>Location</th>\n",
       "      <th>overall_rating</th>\n",
       "      <th>Num_Reviews</th>\n",
       "      <th>Cuisines</th>\n",
       "      <th>Score</th>\n",
       "      <th>rest_id</th>\n",
       "    </tr>\n",
       "  </thead>\n",
       "  <tbody>\n",
       "    <tr>\n",
       "      <td>126</td>\n",
       "      <td>Terroni</td>\n",
       "      <td>Trinity Bellwoods</td>\n",
       "      <td>4.2</td>\n",
       "      <td>941</td>\n",
       "      <td>Casual Dining, Italian, Pizza</td>\n",
       "      <td>0.151411</td>\n",
       "      <td>126</td>\n",
       "    </tr>\n",
       "    <tr>\n",
       "      <td>134</td>\n",
       "      <td>The Burger's Priest</td>\n",
       "      <td>The Beaches</td>\n",
       "      <td>4.5</td>\n",
       "      <td>772</td>\n",
       "      <td>Quick Bites, Burger</td>\n",
       "      <td>0.145665</td>\n",
       "      <td>134</td>\n",
       "    </tr>\n",
       "    <tr>\n",
       "      <td>140</td>\n",
       "      <td>Barque Smokehouse</td>\n",
       "      <td>Roncesvalles Village</td>\n",
       "      <td>4.6</td>\n",
       "      <td>645</td>\n",
       "      <td>Casual Dining, BBQ, Grill</td>\n",
       "      <td>0.177351</td>\n",
       "      <td>140</td>\n",
       "    </tr>\n",
       "    <tr>\n",
       "      <td>143</td>\n",
       "      <td>Copacabana Grilled Brazilian</td>\n",
       "      <td>Davisville Village</td>\n",
       "      <td>4.6</td>\n",
       "      <td>532</td>\n",
       "      <td>Casual Dining, Brazilian, Grill</td>\n",
       "      <td>0.153800</td>\n",
       "      <td>143</td>\n",
       "    </tr>\n",
       "    <tr>\n",
       "      <td>136</td>\n",
       "      <td>Grand Electric</td>\n",
       "      <td>Brockton Village</td>\n",
       "      <td>4.6</td>\n",
       "      <td>719</td>\n",
       "      <td>Casual Dining, Bar, Mexican</td>\n",
       "      <td>0.161687</td>\n",
       "      <td>136</td>\n",
       "    </tr>\n",
       "    <tr>\n",
       "      <td>137</td>\n",
       "      <td>The Stockyards</td>\n",
       "      <td>Forest Hill</td>\n",
       "      <td>4.9</td>\n",
       "      <td>727</td>\n",
       "      <td>Quick Bites, BBQ, Burger</td>\n",
       "      <td>0.121914</td>\n",
       "      <td>137</td>\n",
       "    </tr>\n",
       "  </tbody>\n",
       "</table>\n",
       "</div>"
      ],
      "text/plain": [
       "                             Name              Location  overall_rating  \\\n",
       "126  Terroni                       Trinity Bellwoods     4.2              \n",
       "134  The Burger's Priest           The Beaches           4.5              \n",
       "140  Barque Smokehouse             Roncesvalles Village  4.6              \n",
       "143  Copacabana Grilled Brazilian  Davisville Village    4.6              \n",
       "136  Grand Electric                Brockton Village      4.6              \n",
       "137  The Stockyards                Forest Hill           4.9              \n",
       "\n",
       "    Num_Reviews                         Cuisines     Score  rest_id  \n",
       "126  941         Casual Dining, Italian, Pizza    0.151411  126      \n",
       "134  772         Quick Bites, Burger              0.145665  134      \n",
       "140  645         Casual Dining, BBQ, Grill        0.177351  140      \n",
       "143  532         Casual Dining, Brazilian, Grill  0.153800  143      \n",
       "136  719         Casual Dining, Bar, Mexican      0.161687  136      \n",
       "137  727         Quick Bites, BBQ, Burger         0.121914  137      "
      ]
     },
     "execution_count": 113,
     "metadata": {},
     "output_type": "execute_result"
    }
   ],
   "source": [
    "merged_df_sorted[(merged_df_sorted['overall_rating'] >= 4) & (merged_df_sorted['Score'] < average_score )].head(10)"
   ]
  },
  {
   "cell_type": "markdown",
   "metadata": {},
   "source": [
    "#### Generating Wordclouds for negative comments"
   ]
  },
  {
   "cell_type": "code",
   "execution_count": 114,
   "metadata": {},
   "outputs": [],
   "source": [
    "## from our data we observe that the comments with an average score of 0.1 and under are negative comments\n",
    "# we will call this a cut_off for negative comments"
   ]
  },
  {
   "cell_type": "code",
   "execution_count": 115,
   "metadata": {},
   "outputs": [],
   "source": [
    "cut_off = 0.1"
   ]
  },
  {
   "cell_type": "code",
   "execution_count": 42,
   "metadata": {},
   "outputs": [],
   "source": [
    "#### Get wordcloud for each comment below the restaurants and another wordcloud for above\n",
    "     # this will tell us what to focus on for negative comments"
   ]
  },
  {
   "cell_type": "code",
   "execution_count": 116,
   "metadata": {},
   "outputs": [],
   "source": [
    "negative_comments = df_rest[df_rest['Score'] <= 0.1 ]['Comment']"
   ]
  },
  {
   "cell_type": "code",
   "execution_count": 117,
   "metadata": {},
   "outputs": [],
   "source": [
    "#extract nounts and adjectives from negative comments"
   ]
  },
  {
   "cell_type": "code",
   "execution_count": 118,
   "metadata": {},
   "outputs": [
    {
     "name": "stdout",
     "output_type": "stream",
     "text": [
      "error in:  nan\n"
     ]
    }
   ],
   "source": [
    "neg_nouns = []\n",
    "neg_adject = []\n",
    "\n",
    "try:\n",
    "    for comms in negative_comments:\n",
    "        blob = TextBlob(comms)\n",
    "        #blob = blob.correct()\n",
    "        word_tags = blob.tags\n",
    "\n",
    "        for word, tag in word_tags:\n",
    "            if(tag == 'NN'):\n",
    "                neg_nouns.append(word)\n",
    "            elif(tag == 'JJ'):\n",
    "                neg_adject.append(word)\n",
    "except:\n",
    "    print('error in: ', comms)"
   ]
  },
  {
   "cell_type": "code",
   "execution_count": 119,
   "metadata": {},
   "outputs": [],
   "source": [
    "#### Create wordclouds for negative comments - nouns"
   ]
  },
  {
   "cell_type": "code",
   "execution_count": 120,
   "metadata": {},
   "outputs": [],
   "source": [
    "        ###too may words for worcloud to process in short time so lets take only most common ones"
   ]
  },
  {
   "cell_type": "code",
   "execution_count": 139,
   "metadata": {},
   "outputs": [],
   "source": [
    "neg_noun_df = pd.DataFrame(neg_nouns, columns = ['Nouns'])\n",
    "top_neg_nouns = neg_noun_df['Nouns'].value_counts().head(14)"
   ]
  },
  {
   "cell_type": "code",
   "execution_count": 140,
   "metadata": {},
   "outputs": [
    {
     "data": {
      "text/plain": [
       "Index(['food', 'restaurant', 'place', 'service', 'chicken', 'time', 'menu',\n",
       "       'order', 'table', 'staff', 'dish', 'dinner', 'rice', '%'],\n",
       "      dtype='object')"
      ]
     },
     "execution_count": 140,
     "metadata": {},
     "output_type": "execute_result"
    }
   ],
   "source": [
    "top_neg_nouns.index"
   ]
  },
  {
   "cell_type": "code",
   "execution_count": 141,
   "metadata": {},
   "outputs": [],
   "source": [
    "##remove irrelevant words in top 15 and create df again\n",
    "neg_nouns.remove('i')\n",
    "neg_nouns.remove(\"i\")\n",
    "neg_nouns.remove(\"%\")"
   ]
  },
  {
   "cell_type": "code",
   "execution_count": 142,
   "metadata": {},
   "outputs": [],
   "source": [
    "##select unique items with top 14 counts"
   ]
  },
  {
   "cell_type": "code",
   "execution_count": 143,
   "metadata": {},
   "outputs": [],
   "source": [
    "unique_nouns = list(top_neg_nouns.index) #because the nouns have got stored as an index while doing value_counts"
   ]
  },
  {
   "cell_type": "code",
   "execution_count": 144,
   "metadata": {},
   "outputs": [],
   "source": [
    "## select rows from nouns with those nouns"
   ]
  },
  {
   "cell_type": "code",
   "execution_count": 145,
   "metadata": {},
   "outputs": [],
   "source": [
    "all_neg_nouns = neg_noun_df[neg_noun_df['Nouns'].isin(unique_nouns)]"
   ]
  },
  {
   "cell_type": "code",
   "execution_count": 135,
   "metadata": {},
   "outputs": [],
   "source": [
    "##convert the pandas series to a normal list"
   ]
  },
  {
   "cell_type": "code",
   "execution_count": 146,
   "metadata": {},
   "outputs": [],
   "source": [
    "all_neg_nouns = all_neg_nouns['Nouns']"
   ]
  },
  {
   "cell_type": "code",
   "execution_count": 147,
   "metadata": {},
   "outputs": [],
   "source": [
    "from wordcloud import WordCloud, STOPWORDS"
   ]
  },
  {
   "cell_type": "code",
   "execution_count": 148,
   "metadata": {},
   "outputs": [
    {
     "data": {
      "image/png": "[encoded data removed]",
      "text/plain": [
       "<Figure size 576x576 with 1 Axes>"
      ]
     },
     "metadata": {
      "needs_background": "light"
     },
     "output_type": "display_data"
    }
   ],
   "source": [
    "comment_words = ' '\n",
    "stopwords = set(STOPWORDS) \n",
    "  \n",
    "for val in all_neg_nouns: \n",
    "      \n",
    "    # typecaste each val to string \n",
    "    val = str(val) \n",
    "  \n",
    "    # split the value \n",
    "    tokens = val.split() \n",
    "      \n",
    "    # Converts each token into lowercase \n",
    "    for i in range(len(tokens)): \n",
    "        tokens[i] = tokens[i].lower() \n",
    "          \n",
    "    for words in tokens: \n",
    "        comment_words = comment_words + words + ' '\n",
    "        wordcloud = WordCloud(width = 800, height = 800, \n",
    "        background_color ='white', \n",
    "        stopwords = stopwords,\n",
    "        max_words = 14,\n",
    "        min_font_size = 10).generate(comment_words) \n",
    "  \n",
    "#plot the WordCloud image                        \n",
    "plt.figure(figsize = (8, 8), facecolor = None) \n",
    "plt.imshow(wordcloud) \n",
    "plt.axis(\"off\") \n",
    "plt.tight_layout(pad = 0) \n",
    "  \n",
    "plt.show() "
   ]
  },
  {
   "cell_type": "code",
   "execution_count": 149,
   "metadata": {},
   "outputs": [],
   "source": [
    "#### Create wordclouds for negative comments - adjectives"
   ]
  },
  {
   "cell_type": "code",
   "execution_count": 150,
   "metadata": {},
   "outputs": [],
   "source": [
    "neg_adj_df = pd.DataFrame(neg_adject, columns = ['Adjectives'])\n",
    "top_neg_adj = neg_adj_df['Adjectives'].value_counts().head(25)"
   ]
  },
  {
   "cell_type": "code",
   "execution_count": 151,
   "metadata": {},
   "outputs": [],
   "source": [
    "top_neg_adj = list(top_neg_adj.index)"
   ]
  },
  {
   "cell_type": "code",
   "execution_count": 152,
   "metadata": {},
   "outputs": [
    {
     "data": {
      "text/plain": [
       "['good',\n",
       " 'small',\n",
       " 'last',\n",
       " 'same',\n",
       " 'much',\n",
       " 'other',\n",
       " 'bad',\n",
       " 'great',\n",
       " 'few',\n",
       " 'many',\n",
       " 'nice',\n",
       " 'Indian',\n",
       " 'first',\n",
       " 'different',\n",
       " 'poor',\n",
       " 'full',\n",
       " 'little',\n",
       " 'dry',\n",
       " 'big',\n",
       " 'long',\n",
       " 'open',\n",
       " 'new',\n",
       " 'delicious',\n",
       " 'high',\n",
       " 'sweet']"
      ]
     },
     "execution_count": 152,
     "metadata": {},
     "output_type": "execute_result"
    }
   ],
   "source": [
    "top_neg_adj #after removing irrelevant ones such as good and great which could have been taken out of context"
   ]
  },
  {
   "cell_type": "code",
   "execution_count": 153,
   "metadata": {},
   "outputs": [],
   "source": [
    "top_neg_adj_df = neg_adj_df[neg_adj_df['Adjectives'].isin(top_neg_adj)]"
   ]
  },
  {
   "cell_type": "code",
   "execution_count": 154,
   "metadata": {},
   "outputs": [],
   "source": [
    "top_neg_adjectives = list(top_neg_adj_df['Adjectives'])"
   ]
  },
  {
   "cell_type": "code",
   "execution_count": null,
   "metadata": {},
   "outputs": [],
   "source": [
    "comment_words = ' '\n",
    "stopwords = set(STOPWORDS) \n",
    "  \n",
    "for val in top_neg_adjectives: \n",
    "      \n",
    "    # typecaste each val to string \n",
    "    val = str(val) \n",
    "  \n",
    "    # split the value \n",
    "    tokens = val.split() \n",
    "      \n",
    "    # Converts each token into lowercase \n",
    "    for i in range(len(tokens)): \n",
    "        tokens[i] = tokens[i].lower() \n",
    "          \n",
    "    for words in tokens: \n",
    "        comment_words = comment_words + words + ' '\n",
    "        wordcloud = WordCloud(width = 800, height = 800, \n",
    "        background_color ='white', \n",
    "        stopwords = stopwords,\n",
    "        max_words = 10,\n",
    "        min_font_size = 10).generate(comment_words) \n",
    "  \n",
    "#plot the WordCloud image                        \n",
    "plt.figure(figsize = (8, 8), facecolor = None) \n",
    "plt.imshow(wordcloud) \n",
    "plt.axis(\"off\") \n",
    "plt.tight_layout(pad = 0) \n",
    "  \n",
    "plt.show() "
   ]
  },
  {
   "cell_type": "code",
   "execution_count": null,
   "metadata": {},
   "outputs": [],
   "source": []
  },
  {
   "cell_type": "code",
   "execution_count": null,
   "metadata": {},
   "outputs": [],
   "source": []
  },
  {
   "cell_type": "markdown",
   "metadata": {},
   "source": [
    "---"
   ]
  }
 ],
 "metadata": {
  "kernelspec": {
   "display_name": "Python 3",
   "language": "python",
   "name": "python3"
  },
  "language_info": {
   "codemirror_mode": {
    "name": "ipython",
    "version": 3
   },
   "file_extension": ".py",
   "mimetype": "text/x-python",
   "name": "python",
   "nbconvert_exporter": "python",
   "pygments_lexer": "ipython3",
   "version": "3.7.4"
  }
 },
 "nbformat": 4,
 "nbformat_minor": 2
}
